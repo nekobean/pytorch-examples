{
 "cells": [
  {
   "cell_type": "markdown",
   "metadata": {},
   "source": [
    "### モジュールの import"
   ]
  },
  {
   "cell_type": "code",
   "execution_count": 1,
   "metadata": {},
   "outputs": [],
   "source": [
    "from pathlib import Path\n",
    "\n",
    "import matplotlib.pyplot as plt\n",
    "import numpy as np\n",
    "import pandas as pd\n",
    "import torch\n",
    "import torch.nn as nn\n",
    "import torch.utils.data as data\n",
    "from torchvision import datasets, transforms, models\n",
    "import torch.optim as optim"
   ]
  },
  {
   "cell_type": "markdown",
   "metadata": {},
   "source": [
    "### Transform、Dataset、DataLoader を作成する。"
   ]
  },
  {
   "cell_type": "code",
   "execution_count": 2,
   "metadata": {},
   "outputs": [],
   "source": [
    "data_transforms = {\n",
    "    # 学習時の Transform\n",
    "    \"train\": transforms.Compose(\n",
    "        [\n",
    "            transforms.RandomResizedCrop(224),\n",
    "            transforms.RandomHorizontalFlip(),\n",
    "            transforms.ToTensor(),\n",
    "            transforms.Normalize(mean=[0.485, 0.456, 0.406], std=[0.229, 0.224, 0.225]),\n",
    "        ]\n",
    "    ),\n",
    "    # 推論時の Transform\n",
    "    \"val\": transforms.Compose(\n",
    "        [\n",
    "            transforms.Resize(256),\n",
    "            transforms.CenterCrop(224),\n",
    "            transforms.ToTensor(),\n",
    "            transforms.Normalize(mean=[0.485, 0.456, 0.406], std=[0.229, 0.224, 0.225]),\n",
    "        ]\n",
    "    ),\n",
    "}\n",
    "\n",
    "# Dataset を作成する。\n",
    "dataset_dir = Path(\"/data/imagenette-320\")   # imagenette-320 ディレクトリがある場所\n",
    "assert dataset_dir.exists()\n",
    "img_datasets = {\n",
    "    x: datasets.ImageFolder(dataset_dir / x, data_transforms[x])\n",
    "    for x in [\"train\", \"val\"]\n",
    "}\n",
    "\n",
    "# DataLoader を作成する\n",
    "dataloaders = {\n",
    "    x: data.DataLoader(img_datasets[x], batch_size=4, shuffle=True, num_workers=8)\n",
    "    for x in [\"train\", \"val\"]\n",
    "}"
   ]
  },
  {
   "cell_type": "markdown",
   "metadata": {},
   "source": [
    "### モデル、損失関数、オプティマイザを作成する"
   ]
  },
  {
   "cell_type": "code",
   "execution_count": 3,
   "metadata": {},
   "outputs": [],
   "source": [
    "# デバイスを作成する。\n",
    "device = torch.device(\"cuda\")\n",
    "\n",
    "# モデルを作成する。\n",
    "model = models.mobilenet_v2(pretrained=True).to(device)\n",
    "\n",
    "# 損失関数を作成する。\n",
    "criterion = nn.CrossEntropyLoss()\n",
    "\n",
    "# オプティマイザを作成する。\n",
    "optimizer = optim.SGD(model.parameters(), lr=0.001, momentum=0.9)\n",
    "\n",
    "# スケジューラーを作成する。\n",
    "scheduler = optim.lr_scheduler.StepLR(optimizer, step_size=7, gamma=0.1)"
   ]
  },
  {
   "cell_type": "markdown",
   "metadata": {},
   "source": [
    "### 学習する"
   ]
  },
  {
   "cell_type": "code",
   "execution_count": 4,
   "metadata": {},
   "outputs": [],
   "source": [
    "def train_on_epoch():\n",
    "    info = {}\n",
    "    for phase in [\"train\", \"val\"]:\n",
    "        if phase == \"train\":\n",
    "            model.train()  # モデルを学習モードに設定する。\n",
    "        else:\n",
    "            model.eval()  # モデルを推論モードに設定する。\n",
    "\n",
    "        total_loss = 0\n",
    "        total_correct = 0\n",
    "        for inputs, labels in dataloaders[phase]:\n",
    "            # データ及びラベルを計算を実行するデバイスに転送する。\n",
    "            inputs, labels = inputs.to(device), labels.to(device)\n",
    "\n",
    "            # 学習時は勾配を計算するため、set_grad_enabled(True) で中間層の出力を記録するように設定する。\n",
    "            with torch.set_grad_enabled(phase == \"train\"):\n",
    "                # 順伝搬を行う。\n",
    "                outputs = model(inputs)\n",
    "                # 確率の最も高いクラスを予測ラベルとする。\n",
    "                preds = outputs.argmax(dim=1)\n",
    "\n",
    "                # 損失関数の値を計算する。\n",
    "                loss = criterion(outputs, labels)\n",
    "\n",
    "                if phase == \"train\":\n",
    "                    # 逆伝搬を行う。\n",
    "                    optimizer.zero_grad()\n",
    "                    loss.backward()\n",
    "\n",
    "                    # パラメータを更新する。\n",
    "                    optimizer.step()\n",
    "\n",
    "            # この反復の損失及び正答数を加算する。\n",
    "            total_loss += float(loss)\n",
    "            total_correct += int((preds == labels).sum())\n",
    "\n",
    "        if phase == \"train\":\n",
    "            # 学習率を調整する。\n",
    "            scheduler.step()\n",
    "\n",
    "        # 損失関数の値の平均及び精度を計算する。\n",
    "        info[f\"{phase}_loss\"] = total_loss / len(dataloaders[phase].dataset)\n",
    "        info[f\"{phase}_accuracy\"] = total_correct / len(dataloaders[phase].dataset)\n",
    "\n",
    "    return info"
   ]
  },
  {
   "cell_type": "code",
   "execution_count": 5,
   "metadata": {},
   "outputs": [
    {
     "name": "stdout",
     "output_type": "stream",
     "text": [
      "epoch 1  [train] loss: 0.302804, accuracy: 63% [test] loss: 0.067403, accuracy: 92%\n",
      "epoch 2  [train] loss: 0.182649, accuracy: 77% [test] loss: 0.044355, accuracy: 94%\n",
      "epoch 3  [train] loss: 0.160486, accuracy: 80% [test] loss: 0.042276, accuracy: 95%\n",
      "epoch 4  [train] loss: 0.144827, accuracy: 82% [test] loss: 0.044764, accuracy: 94%\n",
      "epoch 5  [train] loss: 0.134598, accuracy: 83% [test] loss: 0.040417, accuracy: 95%\n",
      "epoch 6  [train] loss: 0.129460, accuracy: 84% [test] loss: 0.040925, accuracy: 96%\n",
      "epoch 7  [train] loss: 0.116486, accuracy: 85% [test] loss: 0.040564, accuracy: 95%\n",
      "epoch 8  [train] loss: 0.089796, accuracy: 89% [test] loss: 0.027497, accuracy: 97%\n",
      "epoch 9  [train] loss: 0.077316, accuracy: 90% [test] loss: 0.028123, accuracy: 96%\n",
      "epoch 10 [train] loss: 0.073689, accuracy: 91% [test] loss: 0.028454, accuracy: 96%\n"
     ]
    }
   ],
   "source": [
    "def train(n_epochs):\n",
    "    \"\"\"指定したエポック数だけ学習する。\n",
    "    \"\"\"\n",
    "    history = []\n",
    "    for epoch in range(n_epochs):\n",
    "        info = train_on_epoch()\n",
    "        info[\"epoch\"] = epoch + 1\n",
    "        history.append(info)\n",
    "\n",
    "        print(\n",
    "            f\"epoch {info['epoch']:<2} \"\n",
    "            f\"[train] loss: {info['train_loss']:.6f}, accuracy: {info['train_accuracy']:.0%} \"\n",
    "            f\"[test] loss: {info['val_loss']:.6f}, accuracy: {info['val_accuracy']:.0%}\"\n",
    "        )\n",
    "    history = pd.DataFrame(history)\n",
    "\n",
    "    return history\n",
    "\n",
    "history = train(n_epochs=10)"
   ]
  },
  {
   "cell_type": "markdown",
   "metadata": {},
   "source": [
    "### 学習の推移をグラフにする"
   ]
  },
  {
   "cell_type": "code",
   "execution_count": 6,
   "metadata": {},
   "outputs": [
    {
     "data": {
      "image/png": "[encoded data removed]",
      "text/plain": [
       "<Figure size 576x216 with 2 Axes>"
      ]
     },
     "metadata": {
      "needs_background": "light"
     },
     "output_type": "display_data"
    }
   ],
   "source": [
    "def plot_history(history):\n",
    "    fig, [ax1, ax2] = plt.subplots(1, 2, figsize=(8, 3))\n",
    "\n",
    "    # 損失の推移\n",
    "    ax1.set_title(\"Loss\")\n",
    "    ax1.plot(history[\"epoch\"], history[\"train_loss\"], label=\"train\")\n",
    "    ax1.plot(history[\"epoch\"], history[\"val_loss\"], label=\"val\")\n",
    "    ax1.set_xlabel(\"Epoch\")\n",
    "    ax1.legend()\n",
    "\n",
    "    # 精度の推移\n",
    "    ax2.set_title(\"Accuracy\")\n",
    "    ax2.plot(history[\"epoch\"], history[\"train_accuracy\"], label=\"train\")\n",
    "    ax2.plot(history[\"epoch\"], history[\"val_accuracy\"], label=\"val\")\n",
    "    ax2.set_xlabel(\"Epoch\")\n",
    "    ax2.legend()\n",
    "\n",
    "    plt.show()\n",
    "\n",
    "\n",
    "plot_history(history)"
   ]
  }
 ],
 "metadata": {
  "kernelspec": {
   "display_name": "Python 3",
   "language": "python",
   "name": "python3"
  },
  "language_info": {
   "codemirror_mode": {
    "name": "ipython",
    "version": 3
   },
   "file_extension": ".py",
   "mimetype": "text/x-python",
   "name": "python",
   "nbconvert_exporter": "python",
   "pygments_lexer": "ipython3",
   "version": "3.7.5"
  }
 },
 "nbformat": 4,
 "nbformat_minor": 4
}
